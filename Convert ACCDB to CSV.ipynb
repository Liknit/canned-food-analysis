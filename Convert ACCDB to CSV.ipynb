{
 "cells": [
  {
   "cell_type": "code",
   "execution_count": 5,
   "id": "166528c1",
   "metadata": {},
   "outputs": [],
   "source": [
    "import pyodbc\n",
    "import csv\n",
    "\n",
    "# Function to convert ACCDB to CSV\n",
    "\n",
    "def convert_accdb_to_csv(db_path, csv_path, table_name):\n",
    "    # Connect to ACCDB\n",
    "    conn = pyodbc.connect(r'Driver={Microsoft Access Driver (*.mdb, *.accdb)};DBQ=' + db_path + ';')\n",
    "    cursor = conn.cursor()\n",
    "\n",
    "    # Execute query\n",
    "    query = 'SELECT * FROM ' + table_name\n",
    "    cursor.execute(query)\n",
    "\n",
    "    # Get column names\n",
    "    columns = [column[0] for column in cursor.description]\n",
    "\n",
    "    # Write to CSV\n",
    "    with open(csv_path + table_name + '.csv', 'w', newline='') as csvfile:\n",
    "        writer = csv.writer(csvfile)\n",
    "        writer.writerow(columns)\n",
    "        for row in cursor.fetchall():\n",
    "            writer.writerow(row)\n",
    "\n",
    "    # Close connection\n",
    "    conn.close()\n",
    "\n",
    "\n",
    "# Convert ACCDB to CSV\n",
    "convert_accdb_to_csv('data/2021.accdb', 'data/', '2021')\n"
   ]
  }
 ],
 "metadata": {
  "kernelspec": {
   "display_name": "Python 3 (ipykernel)",
   "language": "python",
   "name": "python3"
  },
  "language_info": {
   "codemirror_mode": {
    "name": "ipython",
    "version": 3
   },
   "file_extension": ".py",
   "mimetype": "text/x-python",
   "name": "python",
   "nbconvert_exporter": "python",
   "pygments_lexer": "ipython3",
   "version": "3.10.9"
  }
 },
 "nbformat": 4,
 "nbformat_minor": 5
}
